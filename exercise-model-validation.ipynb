{
 "cells": [
  {
   "cell_type": "markdown",
   "id": "684f4485",
   "metadata": {
    "papermill": {
     "duration": 0.004982,
     "end_time": "2025-03-24T17:15:40.006138",
     "exception": false,
     "start_time": "2025-03-24T17:15:40.001156",
     "status": "completed"
    },
    "tags": []
   },
   "source": [
    "**This notebook is an exercise in the [Introduction to Machine Learning](https://www.kaggle.com/learn/intro-to-machine-learning) course.  You can reference the tutorial at [this link](https://www.kaggle.com/dansbecker/model-validation).**\n",
    "\n",
    "---\n"
   ]
  },
  {
   "cell_type": "markdown",
   "id": "20645490",
   "metadata": {
    "papermill": {
     "duration": 0.003649,
     "end_time": "2025-03-24T17:15:40.016182",
     "exception": false,
     "start_time": "2025-03-24T17:15:40.012533",
     "status": "completed"
    },
    "tags": []
   },
   "source": [
    "## Recap\n",
    "You've built a model. In this exercise you will test how good your model is.\n",
    "\n",
    "Run the cell below to set up your coding environment where the previous exercise left off."
   ]
  },
  {
   "cell_type": "code",
   "execution_count": 1,
   "id": "d166619c",
   "metadata": {
    "execution": {
     "iopub.execute_input": "2025-03-24T17:15:40.027289Z",
     "iopub.status.busy": "2025-03-24T17:15:40.026918Z",
     "iopub.status.idle": "2025-03-24T17:15:42.382703Z",
     "shell.execute_reply": "2025-03-24T17:15:42.381168Z"
    },
    "papermill": {
     "duration": 2.363299,
     "end_time": "2025-03-24T17:15:42.384470",
     "exception": false,
     "start_time": "2025-03-24T17:15:40.021171",
     "status": "completed"
    },
    "tags": []
   },
   "outputs": [
    {
     "name": "stdout",
     "output_type": "stream",
     "text": [
      "First in-sample predictions: [208500. 181500. 223500. 140000. 250000.]\n",
      "Actual target values for those homes: [208500, 181500, 223500, 140000, 250000]\n",
      "Setup Complete\n"
     ]
    }
   ],
   "source": [
    "# Code you have previously used to load data\n",
    "import pandas as pd\n",
    "from sklearn.tree import DecisionTreeRegressor\n",
    "\n",
    "# Path of the file to read\n",
    "iowa_file_path = '../input/home-data-for-ml-course/train.csv'\n",
    "\n",
    "home_data = pd.read_csv(iowa_file_path)\n",
    "y = home_data.SalePrice\n",
    "feature_columns = ['LotArea', 'YearBuilt', '1stFlrSF', '2ndFlrSF', 'FullBath', 'BedroomAbvGr', 'TotRmsAbvGrd']\n",
    "X = home_data[feature_columns]\n",
    "\n",
    "# Specify Model\n",
    "iowa_model = DecisionTreeRegressor()\n",
    "# Fit Model\n",
    "iowa_model.fit(X, y)\n",
    "\n",
    "print(\"First in-sample predictions:\", iowa_model.predict(X.head()))\n",
    "print(\"Actual target values for those homes:\", y.head().tolist())\n",
    "\n",
    "# Set up code checking\n",
    "from learntools.core import binder\n",
    "binder.bind(globals())\n",
    "from learntools.machine_learning.ex4 import *\n",
    "print(\"Setup Complete\")"
   ]
  },
  {
   "cell_type": "markdown",
   "id": "282b5636",
   "metadata": {
    "papermill": {
     "duration": 0.003436,
     "end_time": "2025-03-24T17:15:42.391903",
     "exception": false,
     "start_time": "2025-03-24T17:15:42.388467",
     "status": "completed"
    },
    "tags": []
   },
   "source": [
    "# Exercises\n",
    "\n",
    "## Step 1: Split Your Data\n",
    "Use the `train_test_split` function to split up your data.\n",
    "\n",
    "Give it the argument `random_state=1` so the `check` functions know what to expect when verifying your code.\n",
    "\n",
    "Recall, your features are loaded in the DataFrame **X** and your target is loaded in **y**.\n"
   ]
  },
  {
   "cell_type": "code",
   "execution_count": 2,
   "id": "0bb7c9f7",
   "metadata": {
    "execution": {
     "iopub.execute_input": "2025-03-24T17:15:42.399971Z",
     "iopub.status.busy": "2025-03-24T17:15:42.399643Z",
     "iopub.status.idle": "2025-03-24T17:15:42.411829Z",
     "shell.execute_reply": "2025-03-24T17:15:42.410915Z"
    },
    "papermill": {
     "duration": 0.017822,
     "end_time": "2025-03-24T17:15:42.413253",
     "exception": false,
     "start_time": "2025-03-24T17:15:42.395431",
     "status": "completed"
    },
    "tags": []
   },
   "outputs": [
    {
     "data": {
      "application/javascript": [
       "parent.postMessage({\"jupyterEvent\": \"custom.exercise_interaction\", \"data\": {\"outcomeType\": 1, \"valueTowardsCompletion\": 0.25, \"interactionType\": 1, \"questionType\": 2, \"questionId\": \"1_SplitData\", \"learnToolsVersion\": \"0.3.4\", \"failureMessage\": \"\", \"exceptionClass\": \"\", \"trace\": \"\"}}, \"*\")"
      ],
      "text/plain": [
       "<IPython.core.display.Javascript object>"
      ]
     },
     "metadata": {},
     "output_type": "display_data"
    },
    {
     "data": {
      "text/markdown": [
       "<span style=\"color:#33cc33\">Correct</span>"
      ],
      "text/plain": [
       "Correct"
      ]
     },
     "metadata": {},
     "output_type": "display_data"
    }
   ],
   "source": [
    "# Import the train_test_split function and uncomment\n",
    "from sklearn.model_selection import train_test_split\n",
    "\n",
    "# fill in and uncomment\n",
    "train_X, val_X, train_y, val_y = train_test_split(X, y, random_state = 1)\n",
    "\n",
    "# Check your answer\n",
    "step_1.check()"
   ]
  },
  {
   "cell_type": "code",
   "execution_count": 3,
   "id": "8fe2a2a9",
   "metadata": {
    "execution": {
     "iopub.execute_input": "2025-03-24T17:15:42.421982Z",
     "iopub.status.busy": "2025-03-24T17:15:42.421647Z",
     "iopub.status.idle": "2025-03-24T17:15:42.425493Z",
     "shell.execute_reply": "2025-03-24T17:15:42.424245Z"
    },
    "papermill": {
     "duration": 0.00982,
     "end_time": "2025-03-24T17:15:42.427054",
     "exception": false,
     "start_time": "2025-03-24T17:15:42.417234",
     "status": "completed"
    },
    "tags": []
   },
   "outputs": [],
   "source": [
    "# The lines below will show you a hint or the solution.\n",
    "# step_1.hint() \n",
    "# step_1.solution()\n"
   ]
  },
  {
   "cell_type": "markdown",
   "id": "0229334f",
   "metadata": {
    "papermill": {
     "duration": 0.003588,
     "end_time": "2025-03-24T17:15:42.434591",
     "exception": false,
     "start_time": "2025-03-24T17:15:42.431003",
     "status": "completed"
    },
    "tags": []
   },
   "source": [
    "## Step 2: Specify and Fit the Model\n",
    "\n",
    "Create a `DecisionTreeRegressor` model and fit it to the relevant data.\n",
    "Set `random_state` to 1 again when creating the model."
   ]
  },
  {
   "cell_type": "code",
   "execution_count": 4,
   "id": "f5f9611b",
   "metadata": {
    "execution": {
     "iopub.execute_input": "2025-03-24T17:15:42.443195Z",
     "iopub.status.busy": "2025-03-24T17:15:42.442885Z",
     "iopub.status.idle": "2025-03-24T17:15:42.467330Z",
     "shell.execute_reply": "2025-03-24T17:15:42.466430Z"
    },
    "papermill": {
     "duration": 0.030504,
     "end_time": "2025-03-24T17:15:42.468796",
     "exception": false,
     "start_time": "2025-03-24T17:15:42.438292",
     "status": "completed"
    },
    "tags": []
   },
   "outputs": [
    {
     "name": "stdout",
     "output_type": "stream",
     "text": [
      "[186500. 184000. 130000.  92000. 164500. 220000. 335000. 144152. 215000.\n",
      " 262000.]\n",
      "[186500. 184000. 130000.  92000. 164500. 220000. 335000. 144152. 215000.\n",
      " 262000.]\n"
     ]
    },
    {
     "data": {
      "application/javascript": [
       "parent.postMessage({\"jupyterEvent\": \"custom.exercise_interaction\", \"data\": {\"outcomeType\": 1, \"valueTowardsCompletion\": 0.25, \"interactionType\": 1, \"questionType\": 2, \"questionId\": \"2_FitModelWithTrain\", \"learnToolsVersion\": \"0.3.4\", \"failureMessage\": \"\", \"exceptionClass\": \"\", \"trace\": \"\"}}, \"*\")"
      ],
      "text/plain": [
       "<IPython.core.display.Javascript object>"
      ]
     },
     "metadata": {},
     "output_type": "display_data"
    },
    {
     "data": {
      "text/markdown": [
       "<span style=\"color:#33cc33\">Correct</span>"
      ],
      "text/plain": [
       "Correct"
      ]
     },
     "metadata": {},
     "output_type": "display_data"
    }
   ],
   "source": [
    "# You imported DecisionTreeRegressor in your last exercise\n",
    "# and that code has been copied to the setup code above. So, no need to\n",
    "# import it again\n",
    "\n",
    "# Specify the model\n",
    "iowa_model = DecisionTreeRegressor(random_state=1)\n",
    "\n",
    "# Fit iowa_model with the training data.\n",
    "iowa_model.fit(train_X, train_y)\n",
    "\n",
    "# Check your answer\n",
    "step_2.check()"
   ]
  },
  {
   "cell_type": "code",
   "execution_count": 5,
   "id": "e895e823",
   "metadata": {
    "execution": {
     "iopub.execute_input": "2025-03-24T17:15:42.478166Z",
     "iopub.status.busy": "2025-03-24T17:15:42.477864Z",
     "iopub.status.idle": "2025-03-24T17:15:42.481224Z",
     "shell.execute_reply": "2025-03-24T17:15:42.480315Z"
    },
    "papermill": {
     "duration": 0.009695,
     "end_time": "2025-03-24T17:15:42.482765",
     "exception": false,
     "start_time": "2025-03-24T17:15:42.473070",
     "status": "completed"
    },
    "tags": []
   },
   "outputs": [],
   "source": [
    "# step_2.hint()\n",
    "# step_2.solution()"
   ]
  },
  {
   "cell_type": "markdown",
   "id": "029f7d27",
   "metadata": {
    "papermill": {
     "duration": 0.003872,
     "end_time": "2025-03-24T17:15:42.490936",
     "exception": false,
     "start_time": "2025-03-24T17:15:42.487064",
     "status": "completed"
    },
    "tags": []
   },
   "source": [
    "## Step 3: Make Predictions with Validation data\n"
   ]
  },
  {
   "cell_type": "code",
   "execution_count": 6,
   "id": "c44c798b",
   "metadata": {
    "execution": {
     "iopub.execute_input": "2025-03-24T17:15:42.500144Z",
     "iopub.status.busy": "2025-03-24T17:15:42.499817Z",
     "iopub.status.idle": "2025-03-24T17:15:42.509406Z",
     "shell.execute_reply": "2025-03-24T17:15:42.508477Z"
    },
    "papermill": {
     "duration": 0.015913,
     "end_time": "2025-03-24T17:15:42.510897",
     "exception": false,
     "start_time": "2025-03-24T17:15:42.494984",
     "status": "completed"
    },
    "tags": []
   },
   "outputs": [
    {
     "data": {
      "application/javascript": [
       "parent.postMessage({\"jupyterEvent\": \"custom.exercise_interaction\", \"data\": {\"outcomeType\": 1, \"valueTowardsCompletion\": 0.25, \"interactionType\": 1, \"questionType\": 2, \"questionId\": \"3_ValPreds\", \"learnToolsVersion\": \"0.3.4\", \"failureMessage\": \"\", \"exceptionClass\": \"\", \"trace\": \"\"}}, \"*\")"
      ],
      "text/plain": [
       "<IPython.core.display.Javascript object>"
      ]
     },
     "metadata": {},
     "output_type": "display_data"
    },
    {
     "data": {
      "text/markdown": [
       "<span style=\"color:#33cc33\">Correct</span>"
      ],
      "text/plain": [
       "Correct"
      ]
     },
     "metadata": {},
     "output_type": "display_data"
    }
   ],
   "source": [
    "# Predict with all validation observations\n",
    "val_predictions = iowa_model.predict(val_X)\n",
    "\n",
    "# Check your answer\n",
    "step_3.check()"
   ]
  },
  {
   "cell_type": "code",
   "execution_count": 7,
   "id": "6a85874f",
   "metadata": {
    "execution": {
     "iopub.execute_input": "2025-03-24T17:15:42.520763Z",
     "iopub.status.busy": "2025-03-24T17:15:42.520432Z",
     "iopub.status.idle": "2025-03-24T17:15:42.523512Z",
     "shell.execute_reply": "2025-03-24T17:15:42.522782Z"
    },
    "papermill": {
     "duration": 0.009504,
     "end_time": "2025-03-24T17:15:42.524988",
     "exception": false,
     "start_time": "2025-03-24T17:15:42.515484",
     "status": "completed"
    },
    "tags": []
   },
   "outputs": [],
   "source": [
    "# step_3.hint()\n",
    "# step_3.solution()"
   ]
  },
  {
   "cell_type": "markdown",
   "id": "450c5aec",
   "metadata": {
    "papermill": {
     "duration": 0.004075,
     "end_time": "2025-03-24T17:15:42.533488",
     "exception": false,
     "start_time": "2025-03-24T17:15:42.529413",
     "status": "completed"
    },
    "tags": []
   },
   "source": [
    "Inspect your predictions and actual values from validation data."
   ]
  },
  {
   "cell_type": "code",
   "execution_count": 8,
   "id": "a0111b11",
   "metadata": {
    "execution": {
     "iopub.execute_input": "2025-03-24T17:15:42.543152Z",
     "iopub.status.busy": "2025-03-24T17:15:42.542831Z",
     "iopub.status.idle": "2025-03-24T17:15:42.548843Z",
     "shell.execute_reply": "2025-03-24T17:15:42.547763Z"
    },
    "papermill": {
     "duration": 0.012421,
     "end_time": "2025-03-24T17:15:42.550190",
     "exception": false,
     "start_time": "2025-03-24T17:15:42.537769",
     "status": "completed"
    },
    "tags": []
   },
   "outputs": [
    {
     "name": "stdout",
     "output_type": "stream",
     "text": [
      "First 5 Predictions:  [186500. 184000. 130000.  92000. 164500.]\n",
      "First 5 Actual Prices:  258     231500\n",
      "267     179500\n",
      "288     122000\n",
      "649      84500\n",
      "1233    142000\n",
      "Name: SalePrice, dtype: int64\n"
     ]
    }
   ],
   "source": [
    "# print the top few validation predictions\n",
    "print(\"First 5 Predictions: \", val_predictions[:5])\n",
    "# print the top few actual prices from validation data\n",
    "print(\"First 5 Actual Prices: \", val_y.head())"
   ]
  },
  {
   "cell_type": "markdown",
   "id": "9a6de113",
   "metadata": {
    "papermill": {
     "duration": 0.004097,
     "end_time": "2025-03-24T17:15:42.558712",
     "exception": false,
     "start_time": "2025-03-24T17:15:42.554615",
     "status": "completed"
    },
    "tags": []
   },
   "source": [
    "What do you notice that is different from what you saw with in-sample predictions (which are printed after the top code cell in this page).\n",
    "\n",
    "Do you remember why validation predictions differ from in-sample (or training) predictions? This is an important idea from the last lesson.\n",
    "\n",
    "## Step 4: Calculate the Mean Absolute Error in Validation Data\n"
   ]
  },
  {
   "cell_type": "code",
   "execution_count": 9,
   "id": "73c930af",
   "metadata": {
    "execution": {
     "iopub.execute_input": "2025-03-24T17:15:42.568432Z",
     "iopub.status.busy": "2025-03-24T17:15:42.568136Z",
     "iopub.status.idle": "2025-03-24T17:15:42.576381Z",
     "shell.execute_reply": "2025-03-24T17:15:42.575599Z"
    },
    "papermill": {
     "duration": 0.014893,
     "end_time": "2025-03-24T17:15:42.577925",
     "exception": false,
     "start_time": "2025-03-24T17:15:42.563032",
     "status": "completed"
    },
    "tags": []
   },
   "outputs": [
    {
     "name": "stdout",
     "output_type": "stream",
     "text": [
      "The prediction error: 29652.93\n"
     ]
    },
    {
     "data": {
      "application/javascript": [
       "parent.postMessage({\"jupyterEvent\": \"custom.exercise_interaction\", \"data\": {\"outcomeType\": 1, \"valueTowardsCompletion\": 0.25, \"interactionType\": 1, \"questionType\": 1, \"questionId\": \"4_MAE\", \"learnToolsVersion\": \"0.3.4\", \"failureMessage\": \"\", \"exceptionClass\": \"\", \"trace\": \"\"}}, \"*\")"
      ],
      "text/plain": [
       "<IPython.core.display.Javascript object>"
      ]
     },
     "metadata": {},
     "output_type": "display_data"
    },
    {
     "data": {
      "text/markdown": [
       "<span style=\"color:#33cc33\">Correct</span>"
      ],
      "text/plain": [
       "Correct"
      ]
     },
     "metadata": {},
     "output_type": "display_data"
    }
   ],
   "source": [
    "from sklearn.metrics import mean_absolute_error\n",
    "val_mae = mean_absolute_error(val_y, val_predictions)\n",
    "\n",
    "# uncomment following line to see the validation_mae\n",
    "print(f\"The prediction error: {val_mae:.2f}\")\n",
    "\n",
    "# Check your answer\n",
    "step_4.check()"
   ]
  },
  {
   "cell_type": "code",
   "execution_count": 10,
   "id": "03c8fbbc",
   "metadata": {
    "execution": {
     "iopub.execute_input": "2025-03-24T17:15:42.588128Z",
     "iopub.status.busy": "2025-03-24T17:15:42.587870Z",
     "iopub.status.idle": "2025-03-24T17:15:42.591044Z",
     "shell.execute_reply": "2025-03-24T17:15:42.590273Z"
    },
    "papermill": {
     "duration": 0.009648,
     "end_time": "2025-03-24T17:15:42.592388",
     "exception": false,
     "start_time": "2025-03-24T17:15:42.582740",
     "status": "completed"
    },
    "tags": []
   },
   "outputs": [],
   "source": [
    "# step_4.hint()\n",
    "# step_4.solution()"
   ]
  },
  {
   "cell_type": "markdown",
   "id": "fe230314",
   "metadata": {
    "papermill": {
     "duration": 0.004409,
     "end_time": "2025-03-24T17:15:42.601612",
     "exception": false,
     "start_time": "2025-03-24T17:15:42.597203",
     "status": "completed"
    },
    "tags": []
   },
   "source": [
    "Is that MAE good?  There isn't a general rule for what values are good that applies across applications. But you'll see how to use (and improve) this number in the next step.\n",
    "\n",
    "# Keep Going\n",
    "\n",
    "You are ready for **[Underfitting and Overfitting](https://www.kaggle.com/dansbecker/underfitting-and-overfitting).**\n"
   ]
  },
  {
   "cell_type": "markdown",
   "id": "b0f64415",
   "metadata": {
    "papermill": {
     "duration": 0.004376,
     "end_time": "2025-03-24T17:15:42.610642",
     "exception": false,
     "start_time": "2025-03-24T17:15:42.606266",
     "status": "completed"
    },
    "tags": []
   },
   "source": [
    "---\n",
    "\n",
    "\n",
    "\n",
    "\n",
    "*Have questions or comments? Visit the [course discussion forum](https://www.kaggle.com/learn/intro-to-machine-learning/discussion) to chat with other learners.*"
   ]
  }
 ],
 "metadata": {
  "kaggle": {
   "accelerator": "none",
   "dataSources": [
    {
     "databundleVersionId": 111096,
     "sourceId": 10211,
     "sourceType": "competition"
    },
    {
     "datasetId": 11167,
     "sourceId": 15520,
     "sourceType": "datasetVersion"
    },
    {
     "datasetId": 2709,
     "sourceId": 38454,
     "sourceType": "datasetVersion"
    }
   ],
   "isGpuEnabled": false,
   "isInternetEnabled": false,
   "language": "python",
   "sourceType": "notebook"
  },
  "kernelspec": {
   "display_name": "Python 3",
   "language": "python",
   "name": "python3"
  },
  "language_info": {
   "codemirror_mode": {
    "name": "ipython",
    "version": 3
   },
   "file_extension": ".py",
   "mimetype": "text/x-python",
   "name": "python",
   "nbconvert_exporter": "python",
   "pygments_lexer": "ipython3",
   "version": "3.10.12"
  },
  "papermill": {
   "default_parameters": {},
   "duration": 5.815115,
   "end_time": "2025-03-24T17:15:43.234861",
   "environment_variables": {},
   "exception": null,
   "input_path": "__notebook__.ipynb",
   "output_path": "__notebook__.ipynb",
   "parameters": {},
   "start_time": "2025-03-24T17:15:37.419746",
   "version": "2.6.0"
  }
 },
 "nbformat": 4,
 "nbformat_minor": 5
}
