{
 "cells": [
  {
   "cell_type": "markdown",
   "id": "11dbcac2",
   "metadata": {
    "papermill": {
     "duration": 0.005045,
     "end_time": "2025-03-23T00:31:25.873590",
     "exception": false,
     "start_time": "2025-03-23T00:31:25.868545",
     "status": "completed"
    },
    "tags": []
   },
   "source": [
    "**This notebook is an exercise in the [Introduction to Machine Learning](https://www.kaggle.com/learn/intro-to-machine-learning) course.  You can reference the tutorial at [this link](https://www.kaggle.com/dansbecker/your-first-machine-learning-model).**\n",
    "\n",
    "---\n"
   ]
  },
  {
   "cell_type": "markdown",
   "id": "26ca6780",
   "metadata": {
    "papermill": {
     "duration": 0.004041,
     "end_time": "2025-03-23T00:31:25.882234",
     "exception": false,
     "start_time": "2025-03-23T00:31:25.878193",
     "status": "completed"
    },
    "tags": []
   },
   "source": [
    "## Recap\n",
    "So far, you have loaded your data and reviewed it with the following code. Run this cell to set up your coding environment where the previous step left off."
   ]
  },
  {
   "cell_type": "code",
   "execution_count": 1,
   "id": "56abd5dc",
   "metadata": {
    "execution": {
     "iopub.execute_input": "2025-03-23T00:31:25.892618Z",
     "iopub.status.busy": "2025-03-23T00:31:25.892096Z",
     "iopub.status.idle": "2025-03-23T00:31:28.840622Z",
     "shell.execute_reply": "2025-03-23T00:31:28.839159Z"
    },
    "papermill": {
     "duration": 2.956247,
     "end_time": "2025-03-23T00:31:28.842889",
     "exception": false,
     "start_time": "2025-03-23T00:31:25.886642",
     "status": "completed"
    },
    "tags": []
   },
   "outputs": [
    {
     "name": "stdout",
     "output_type": "stream",
     "text": [
      "Setup Complete\n"
     ]
    }
   ],
   "source": [
    "# Code you have previously used to load data\n",
    "import pandas as pd\n",
    "\n",
    "# Path of the file to read\n",
    "iowa_file_path = '../input/home-data-for-ml-course/train.csv'\n",
    "\n",
    "home_data = pd.read_csv(iowa_file_path)\n",
    "\n",
    "# Set up code checking\n",
    "from learntools.core import binder\n",
    "binder.bind(globals())\n",
    "from learntools.machine_learning.ex3 import *\n",
    "\n",
    "print(\"Setup Complete\")"
   ]
  },
  {
   "cell_type": "markdown",
   "id": "c9bee6fa",
   "metadata": {
    "papermill": {
     "duration": 0.004203,
     "end_time": "2025-03-23T00:31:28.851978",
     "exception": false,
     "start_time": "2025-03-23T00:31:28.847775",
     "status": "completed"
    },
    "tags": []
   },
   "source": [
    "# Exercises\n",
    "\n",
    "## Step 1: Specify Prediction Target\n",
    "Select the target variable, which corresponds to the sales price. Save this to a new variable called `y`. You'll need to print a list of the columns to find the name of the column you need.\n"
   ]
  },
  {
   "cell_type": "code",
   "execution_count": 2,
   "id": "2f5e4981",
   "metadata": {
    "execution": {
     "iopub.execute_input": "2025-03-23T00:31:28.862589Z",
     "iopub.status.busy": "2025-03-23T00:31:28.862005Z",
     "iopub.status.idle": "2025-03-23T00:31:28.867930Z",
     "shell.execute_reply": "2025-03-23T00:31:28.866632Z"
    },
    "papermill": {
     "duration": 0.013533,
     "end_time": "2025-03-23T00:31:28.869970",
     "exception": false,
     "start_time": "2025-03-23T00:31:28.856437",
     "status": "completed"
    },
    "tags": []
   },
   "outputs": [
    {
     "name": "stdout",
     "output_type": "stream",
     "text": [
      "Index(['Id', 'MSSubClass', 'MSZoning', 'LotFrontage', 'LotArea', 'Street',\n",
      "       'Alley', 'LotShape', 'LandContour', 'Utilities', 'LotConfig',\n",
      "       'LandSlope', 'Neighborhood', 'Condition1', 'Condition2', 'BldgType',\n",
      "       'HouseStyle', 'OverallQual', 'OverallCond', 'YearBuilt', 'YearRemodAdd',\n",
      "       'RoofStyle', 'RoofMatl', 'Exterior1st', 'Exterior2nd', 'MasVnrType',\n",
      "       'MasVnrArea', 'ExterQual', 'ExterCond', 'Foundation', 'BsmtQual',\n",
      "       'BsmtCond', 'BsmtExposure', 'BsmtFinType1', 'BsmtFinSF1',\n",
      "       'BsmtFinType2', 'BsmtFinSF2', 'BsmtUnfSF', 'TotalBsmtSF', 'Heating',\n",
      "       'HeatingQC', 'CentralAir', 'Electrical', '1stFlrSF', '2ndFlrSF',\n",
      "       'LowQualFinSF', 'GrLivArea', 'BsmtFullBath', 'BsmtHalfBath', 'FullBath',\n",
      "       'HalfBath', 'BedroomAbvGr', 'KitchenAbvGr', 'KitchenQual',\n",
      "       'TotRmsAbvGrd', 'Functional', 'Fireplaces', 'FireplaceQu', 'GarageType',\n",
      "       'GarageYrBlt', 'GarageFinish', 'GarageCars', 'GarageArea', 'GarageQual',\n",
      "       'GarageCond', 'PavedDrive', 'WoodDeckSF', 'OpenPorchSF',\n",
      "       'EnclosedPorch', '3SsnPorch', 'ScreenPorch', 'PoolArea', 'PoolQC',\n",
      "       'Fence', 'MiscFeature', 'MiscVal', 'MoSold', 'YrSold', 'SaleType',\n",
      "       'SaleCondition', 'SalePrice'],\n",
      "      dtype='object')\n"
     ]
    }
   ],
   "source": [
    "# print the list of columns in the dataset to find the name of the prediction target\n",
    "print(home_data.columns)"
   ]
  },
  {
   "cell_type": "code",
   "execution_count": 3,
   "id": "048e9782",
   "metadata": {
    "execution": {
     "iopub.execute_input": "2025-03-23T00:31:28.881305Z",
     "iopub.status.busy": "2025-03-23T00:31:28.880886Z",
     "iopub.status.idle": "2025-03-23T00:31:28.895883Z",
     "shell.execute_reply": "2025-03-23T00:31:28.894665Z"
    },
    "papermill": {
     "duration": 0.022496,
     "end_time": "2025-03-23T00:31:28.897575",
     "exception": false,
     "start_time": "2025-03-23T00:31:28.875079",
     "status": "completed"
    },
    "tags": []
   },
   "outputs": [
    {
     "data": {
      "application/javascript": [
       "parent.postMessage({\"jupyterEvent\": \"custom.exercise_interaction\", \"data\": {\"outcomeType\": 1, \"valueTowardsCompletion\": 0.25, \"interactionType\": 1, \"questionType\": 2, \"questionId\": \"1_SetTarget\", \"learnToolsVersion\": \"0.3.4\", \"failureMessage\": \"\", \"exceptionClass\": \"\", \"trace\": \"\"}}, \"*\")"
      ],
      "text/plain": [
       "<IPython.core.display.Javascript object>"
      ]
     },
     "metadata": {},
     "output_type": "display_data"
    },
    {
     "data": {
      "text/markdown": [
       "<span style=\"color:#33cc33\">Correct</span>"
      ],
      "text/plain": [
       "Correct"
      ]
     },
     "metadata": {},
     "output_type": "display_data"
    }
   ],
   "source": [
    "y = home_data.SalePrice\n",
    "\n",
    "# Check your answer\n",
    "step_1.check()"
   ]
  },
  {
   "cell_type": "code",
   "execution_count": 4,
   "id": "344115d1",
   "metadata": {
    "execution": {
     "iopub.execute_input": "2025-03-23T00:31:28.909643Z",
     "iopub.status.busy": "2025-03-23T00:31:28.909188Z",
     "iopub.status.idle": "2025-03-23T00:31:28.913156Z",
     "shell.execute_reply": "2025-03-23T00:31:28.912241Z"
    },
    "papermill": {
     "duration": 0.011762,
     "end_time": "2025-03-23T00:31:28.914957",
     "exception": false,
     "start_time": "2025-03-23T00:31:28.903195",
     "status": "completed"
    },
    "tags": []
   },
   "outputs": [],
   "source": [
    "# The lines below will show you a hint or the solution.\n",
    "# step_1.hint() \n",
    "# step_1.solution()"
   ]
  },
  {
   "cell_type": "markdown",
   "id": "47d5b144",
   "metadata": {
    "papermill": {
     "duration": 0.004649,
     "end_time": "2025-03-23T00:31:28.924557",
     "exception": false,
     "start_time": "2025-03-23T00:31:28.919908",
     "status": "completed"
    },
    "tags": []
   },
   "source": [
    "## Step 2: Create X\n",
    "Now you will create a DataFrame called `X` holding the predictive features.\n",
    "\n",
    "Since you want only some columns from the original data, you'll first create a list with the names of the columns you want in `X`.\n",
    "\n",
    "You'll use just the following columns in the list (you can copy and paste the whole list to save some typing, though you'll still need to add quotes):\n",
    "  * LotArea\n",
    "  * YearBuilt\n",
    "  * 1stFlrSF\n",
    "  * 2ndFlrSF\n",
    "  * FullBath\n",
    "  * BedroomAbvGr\n",
    "  * TotRmsAbvGrd\n",
    "\n",
    "After you've created that list of features, use it to create the DataFrame that you'll use to fit the model."
   ]
  },
  {
   "cell_type": "code",
   "execution_count": 5,
   "id": "6480cfdd",
   "metadata": {
    "execution": {
     "iopub.execute_input": "2025-03-23T00:31:28.935612Z",
     "iopub.status.busy": "2025-03-23T00:31:28.935130Z",
     "iopub.status.idle": "2025-03-23T00:31:28.948667Z",
     "shell.execute_reply": "2025-03-23T00:31:28.947753Z"
    },
    "papermill": {
     "duration": 0.020922,
     "end_time": "2025-03-23T00:31:28.950297",
     "exception": false,
     "start_time": "2025-03-23T00:31:28.929375",
     "status": "completed"
    },
    "tags": []
   },
   "outputs": [
    {
     "data": {
      "application/javascript": [
       "parent.postMessage({\"jupyterEvent\": \"custom.exercise_interaction\", \"data\": {\"outcomeType\": 1, \"valueTowardsCompletion\": 0.25, \"interactionType\": 1, \"questionType\": 2, \"questionId\": \"2_SelectPredictionData\", \"learnToolsVersion\": \"0.3.4\", \"failureMessage\": \"\", \"exceptionClass\": \"\", \"trace\": \"\"}}, \"*\")"
      ],
      "text/plain": [
       "<IPython.core.display.Javascript object>"
      ]
     },
     "metadata": {},
     "output_type": "display_data"
    },
    {
     "data": {
      "text/markdown": [
       "<span style=\"color:#33cc33\">Correct</span>"
      ],
      "text/plain": [
       "Correct"
      ]
     },
     "metadata": {},
     "output_type": "display_data"
    }
   ],
   "source": [
    "import pandas as pd\n",
    "# Create the list of features below\n",
    "feature_names = [\"LotArea\", \"YearBuilt\", \"1stFlrSF\",\"2ndFlrSF\",\"FullBath\", \"BedroomAbvGr\",\"TotRmsAbvGrd\"  ]\n",
    "\n",
    "# Select data corresponding to features in feature_names\n",
    "X = home_data[feature_names]\n",
    "\n",
    "# Check your answer\n",
    "step_2.check()"
   ]
  },
  {
   "cell_type": "code",
   "execution_count": 6,
   "id": "ea183248",
   "metadata": {
    "execution": {
     "iopub.execute_input": "2025-03-23T00:31:28.961862Z",
     "iopub.status.busy": "2025-03-23T00:31:28.961491Z",
     "iopub.status.idle": "2025-03-23T00:31:28.965431Z",
     "shell.execute_reply": "2025-03-23T00:31:28.964303Z"
    },
    "papermill": {
     "duration": 0.011791,
     "end_time": "2025-03-23T00:31:28.967220",
     "exception": false,
     "start_time": "2025-03-23T00:31:28.955429",
     "status": "completed"
    },
    "tags": []
   },
   "outputs": [],
   "source": [
    "# step_2.hint()\n",
    "# step_2.solution()"
   ]
  },
  {
   "cell_type": "markdown",
   "id": "9d9fddf5",
   "metadata": {
    "papermill": {
     "duration": 0.004603,
     "end_time": "2025-03-23T00:31:28.977242",
     "exception": false,
     "start_time": "2025-03-23T00:31:28.972639",
     "status": "completed"
    },
    "tags": []
   },
   "source": [
    "## Review Data\n",
    "Before building a model, take a quick look at **X** to verify it looks sensible"
   ]
  },
  {
   "cell_type": "code",
   "execution_count": 7,
   "id": "bba450ae",
   "metadata": {
    "execution": {
     "iopub.execute_input": "2025-03-23T00:31:28.988474Z",
     "iopub.status.busy": "2025-03-23T00:31:28.988023Z",
     "iopub.status.idle": "2025-03-23T00:31:29.005166Z",
     "shell.execute_reply": "2025-03-23T00:31:29.003726Z"
    },
    "papermill": {
     "duration": 0.024843,
     "end_time": "2025-03-23T00:31:29.006992",
     "exception": false,
     "start_time": "2025-03-23T00:31:28.982149",
     "status": "completed"
    },
    "tags": []
   },
   "outputs": [
    {
     "name": "stdout",
     "output_type": "stream",
     "text": [
      "<bound method NDFrame.describe of       LotArea  YearBuilt  1stFlrSF  2ndFlrSF  FullBath  BedroomAbvGr  \\\n",
      "0        8450       2003       856       854         2             3   \n",
      "1        9600       1976      1262         0         2             3   \n",
      "2       11250       2001       920       866         2             3   \n",
      "3        9550       1915       961       756         1             3   \n",
      "4       14260       2000      1145      1053         2             4   \n",
      "...       ...        ...       ...       ...       ...           ...   \n",
      "1455     7917       1999       953       694         2             3   \n",
      "1456    13175       1978      2073         0         2             3   \n",
      "1457     9042       1941      1188      1152         2             4   \n",
      "1458     9717       1950      1078         0         1             2   \n",
      "1459     9937       1965      1256         0         1             3   \n",
      "\n",
      "      TotRmsAbvGrd  \n",
      "0                8  \n",
      "1                6  \n",
      "2                6  \n",
      "3                7  \n",
      "4                9  \n",
      "...            ...  \n",
      "1455             7  \n",
      "1456             7  \n",
      "1457             9  \n",
      "1458             5  \n",
      "1459             6  \n",
      "\n",
      "[1460 rows x 7 columns]>\n",
      "   LotArea  YearBuilt  1stFlrSF  2ndFlrSF  FullBath  BedroomAbvGr  \\\n",
      "0     8450       2003       856       854         2             3   \n",
      "1     9600       1976      1262         0         2             3   \n",
      "2    11250       2001       920       866         2             3   \n",
      "3     9550       1915       961       756         1             3   \n",
      "4    14260       2000      1145      1053         2             4   \n",
      "\n",
      "   TotRmsAbvGrd  \n",
      "0             8  \n",
      "1             6  \n",
      "2             6  \n",
      "3             7  \n",
      "4             9  \n"
     ]
    }
   ],
   "source": [
    "# Review data\n",
    "# print description or statistics from X\n",
    "print(X.describe)\n",
    "\n",
    "# print the top few lines\n",
    "print(X.head())"
   ]
  },
  {
   "cell_type": "markdown",
   "id": "8c585e3f",
   "metadata": {
    "papermill": {
     "duration": 0.004772,
     "end_time": "2025-03-23T00:31:29.016964",
     "exception": false,
     "start_time": "2025-03-23T00:31:29.012192",
     "status": "completed"
    },
    "tags": []
   },
   "source": [
    "## Step 3: Specify and Fit Model\n",
    "Create a `DecisionTreeRegressor` and save it iowa_model. Ensure you've done the relevant import from sklearn to run this command.\n",
    "\n",
    "Then fit the model you just created using the data in `X` and `y` that you saved above."
   ]
  },
  {
   "cell_type": "code",
   "execution_count": 8,
   "id": "f955cb44",
   "metadata": {
    "execution": {
     "iopub.execute_input": "2025-03-23T00:31:29.028533Z",
     "iopub.status.busy": "2025-03-23T00:31:29.028088Z",
     "iopub.status.idle": "2025-03-23T00:31:29.048654Z",
     "shell.execute_reply": "2025-03-23T00:31:29.047504Z"
    },
    "papermill": {
     "duration": 0.028456,
     "end_time": "2025-03-23T00:31:29.050416",
     "exception": false,
     "start_time": "2025-03-23T00:31:29.021960",
     "status": "completed"
    },
    "tags": []
   },
   "outputs": [
    {
     "data": {
      "application/javascript": [
       "parent.postMessage({\"jupyterEvent\": \"custom.exercise_interaction\", \"data\": {\"outcomeType\": 1, \"valueTowardsCompletion\": 0.25, \"interactionType\": 1, \"questionType\": 2, \"questionId\": \"3_CreateModel\", \"learnToolsVersion\": \"0.3.4\", \"failureMessage\": \"\", \"exceptionClass\": \"\", \"trace\": \"\"}}, \"*\")"
      ],
      "text/plain": [
       "<IPython.core.display.Javascript object>"
      ]
     },
     "metadata": {},
     "output_type": "display_data"
    },
    {
     "data": {
      "text/markdown": [
       "<span style=\"color:#33cc33\">Correct</span>"
      ],
      "text/plain": [
       "Correct"
      ]
     },
     "metadata": {},
     "output_type": "display_data"
    }
   ],
   "source": [
    "from sklearn.tree import DecisionTreeRegressor\n",
    "#specify the model. \n",
    "#For model reproducibility, set a numeric value for random_state when specifying the model\n",
    "iowa_model = DecisionTreeRegressor(random_state=1)\n",
    "\n",
    "# Fit the model\n",
    "iowa_model.fit(X, y)\n",
    "\n",
    "# Check your answer\n",
    "step_3.check()"
   ]
  },
  {
   "cell_type": "code",
   "execution_count": 9,
   "id": "a2d66c2f",
   "metadata": {
    "execution": {
     "iopub.execute_input": "2025-03-23T00:31:29.062630Z",
     "iopub.status.busy": "2025-03-23T00:31:29.062191Z",
     "iopub.status.idle": "2025-03-23T00:31:29.066486Z",
     "shell.execute_reply": "2025-03-23T00:31:29.065350Z"
    },
    "papermill": {
     "duration": 0.012431,
     "end_time": "2025-03-23T00:31:29.068418",
     "exception": false,
     "start_time": "2025-03-23T00:31:29.055987",
     "status": "completed"
    },
    "tags": []
   },
   "outputs": [],
   "source": [
    "# step_3.hint()\n",
    "# step_3.solution()"
   ]
  },
  {
   "cell_type": "markdown",
   "id": "af04a821",
   "metadata": {
    "papermill": {
     "duration": 0.004925,
     "end_time": "2025-03-23T00:31:29.078736",
     "exception": false,
     "start_time": "2025-03-23T00:31:29.073811",
     "status": "completed"
    },
    "tags": []
   },
   "source": [
    "## Step 4: Make Predictions\n",
    "Make predictions with the model's `predict` command using `X` as the data. Save the results to a variable called `predictions`."
   ]
  },
  {
   "cell_type": "code",
   "execution_count": 10,
   "id": "966d05be",
   "metadata": {
    "execution": {
     "iopub.execute_input": "2025-03-23T00:31:29.090594Z",
     "iopub.status.busy": "2025-03-23T00:31:29.090175Z",
     "iopub.status.idle": "2025-03-23T00:31:29.102625Z",
     "shell.execute_reply": "2025-03-23T00:31:29.101607Z"
    },
    "papermill": {
     "duration": 0.020473,
     "end_time": "2025-03-23T00:31:29.104369",
     "exception": false,
     "start_time": "2025-03-23T00:31:29.083896",
     "status": "completed"
    },
    "tags": []
   },
   "outputs": [
    {
     "name": "stdout",
     "output_type": "stream",
     "text": [
      "[208500. 181500. 223500. ... 266500. 142125. 147500.]\n"
     ]
    },
    {
     "data": {
      "application/javascript": [
       "parent.postMessage({\"jupyterEvent\": \"custom.exercise_interaction\", \"data\": {\"outcomeType\": 1, \"valueTowardsCompletion\": 0.25, \"interactionType\": 1, \"questionType\": 2, \"questionId\": \"4_MakePredictions\", \"learnToolsVersion\": \"0.3.4\", \"failureMessage\": \"\", \"exceptionClass\": \"\", \"trace\": \"\"}}, \"*\")"
      ],
      "text/plain": [
       "<IPython.core.display.Javascript object>"
      ]
     },
     "metadata": {},
     "output_type": "display_data"
    },
    {
     "data": {
      "text/markdown": [
       "<span style=\"color:#33cc33\">Correct</span>"
      ],
      "text/plain": [
       "Correct"
      ]
     },
     "metadata": {},
     "output_type": "display_data"
    }
   ],
   "source": [
    "predictions = iowa_model.predict(X)\n",
    "print(predictions)\n",
    "\n",
    "# Check your answer\n",
    "step_4.check()"
   ]
  },
  {
   "cell_type": "code",
   "execution_count": 11,
   "id": "f419cbda",
   "metadata": {
    "execution": {
     "iopub.execute_input": "2025-03-23T00:31:29.116930Z",
     "iopub.status.busy": "2025-03-23T00:31:29.116567Z",
     "iopub.status.idle": "2025-03-23T00:31:29.120367Z",
     "shell.execute_reply": "2025-03-23T00:31:29.119522Z"
    },
    "papermill": {
     "duration": 0.01195,
     "end_time": "2025-03-23T00:31:29.122019",
     "exception": false,
     "start_time": "2025-03-23T00:31:29.110069",
     "status": "completed"
    },
    "tags": []
   },
   "outputs": [],
   "source": [
    "# step_4.hint()\n",
    "# step_4.solution()"
   ]
  },
  {
   "cell_type": "markdown",
   "id": "280098d3",
   "metadata": {
    "papermill": {
     "duration": 0.005316,
     "end_time": "2025-03-23T00:31:29.132975",
     "exception": false,
     "start_time": "2025-03-23T00:31:29.127659",
     "status": "completed"
    },
    "tags": []
   },
   "source": [
    "## Think About Your Results\n",
    "\n",
    "Use the `head` method to compare the top few predictions to the actual home values (in `y`) for those same homes. Anything surprising?\n"
   ]
  },
  {
   "cell_type": "code",
   "execution_count": 12,
   "id": "c51f6f6d",
   "metadata": {
    "execution": {
     "iopub.execute_input": "2025-03-23T00:31:29.145486Z",
     "iopub.status.busy": "2025-03-23T00:31:29.145028Z",
     "iopub.status.idle": "2025-03-23T00:31:29.154588Z",
     "shell.execute_reply": "2025-03-23T00:31:29.153441Z"
    },
    "papermill": {
     "duration": 0.017882,
     "end_time": "2025-03-23T00:31:29.156430",
     "exception": false,
     "start_time": "2025-03-23T00:31:29.138548",
     "status": "completed"
    },
    "tags": []
   },
   "outputs": [
    {
     "name": "stdout",
     "output_type": "stream",
     "text": [
      "First five predictions vs Actual Values: \n",
      "   Actual  Predicted  Difference\n",
      "0  208500   208500.0         0.0\n",
      "1  181500   181500.0         0.0\n",
      "2  223500   223500.0         0.0\n",
      "3  140000   140000.0         0.0\n",
      "4  250000   250000.0         0.0\n"
     ]
    }
   ],
   "source": [
    "# You can write code in this cell\n",
    "print(\"First five predictions vs Actual Values: \")\n",
    "comparison_df = pd.DataFrame({\n",
    "    \"Actual\": y.head(),\n",
    "    \"Predicted\": predictions[:5],\n",
    "    \"Difference\": y.head() - predictions[:5]\n",
    "})\n",
    "print(comparison_df)"
   ]
  },
  {
   "cell_type": "markdown",
   "id": "d164d639",
   "metadata": {
    "papermill": {
     "duration": 0.00527,
     "end_time": "2025-03-23T00:31:29.167445",
     "exception": false,
     "start_time": "2025-03-23T00:31:29.162175",
     "status": "completed"
    },
    "tags": []
   },
   "source": [
    "It's natural to ask how accurate the model's predictions will be and how you can improve that. That will be you're next step.\n",
    "\n",
    "# Keep Going\n",
    "\n",
    "You are ready for **[Model Validation](https://www.kaggle.com/dansbecker/model-validation).**\n"
   ]
  },
  {
   "cell_type": "markdown",
   "id": "28875495",
   "metadata": {
    "papermill": {
     "duration": 0.005538,
     "end_time": "2025-03-23T00:31:29.178426",
     "exception": false,
     "start_time": "2025-03-23T00:31:29.172888",
     "status": "completed"
    },
    "tags": []
   },
   "source": [
    "---\n",
    "\n",
    "\n",
    "\n",
    "\n",
    "*Have questions or comments? Visit the [course discussion forum](https://www.kaggle.com/learn/intro-to-machine-learning/discussion) to chat with other learners.*"
   ]
  }
 ],
 "metadata": {
  "kaggle": {
   "accelerator": "none",
   "dataSources": [
    {
     "databundleVersionId": 111096,
     "sourceId": 10211,
     "sourceType": "competition"
    },
    {
     "datasetId": 11167,
     "sourceId": 15520,
     "sourceType": "datasetVersion"
    },
    {
     "datasetId": 2709,
     "sourceId": 38454,
     "sourceType": "datasetVersion"
    }
   ],
   "isGpuEnabled": false,
   "isInternetEnabled": false,
   "language": "python",
   "sourceType": "notebook"
  },
  "kernelspec": {
   "display_name": "Python 3",
   "language": "python",
   "name": "python3"
  },
  "language_info": {
   "codemirror_mode": {
    "name": "ipython",
    "version": 3
   },
   "file_extension": ".py",
   "mimetype": "text/x-python",
   "name": "python",
   "nbconvert_exporter": "python",
   "pygments_lexer": "ipython3",
   "version": "3.10.12"
  },
  "papermill": {
   "default_parameters": {},
   "duration": 6.922936,
   "end_time": "2025-03-23T00:31:29.904196",
   "environment_variables": {},
   "exception": null,
   "input_path": "__notebook__.ipynb",
   "output_path": "__notebook__.ipynb",
   "parameters": {},
   "start_time": "2025-03-23T00:31:22.981260",
   "version": "2.6.0"
  }
 },
 "nbformat": 4,
 "nbformat_minor": 5
}
