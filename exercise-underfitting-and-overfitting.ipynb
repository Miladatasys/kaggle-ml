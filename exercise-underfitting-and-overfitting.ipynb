{
 "cells": [
  {
   "cell_type": "markdown",
   "id": "fb580620",
   "metadata": {
    "papermill": {
     "duration": 0.003617,
     "end_time": "2025-04-01T18:58:15.099423",
     "exception": false,
     "start_time": "2025-04-01T18:58:15.095806",
     "status": "completed"
    },
    "tags": []
   },
   "source": [
    "**This notebook is an exercise in the [Introduction to Machine Learning](https://www.kaggle.com/learn/intro-to-machine-learning) course.  You can reference the tutorial at [this link](https://www.kaggle.com/dansbecker/underfitting-and-overfitting).**\n",
    "\n",
    "---\n"
   ]
  },
  {
   "cell_type": "markdown",
   "id": "0659c576",
   "metadata": {
    "papermill": {
     "duration": 0.002766,
     "end_time": "2025-04-01T18:58:15.105698",
     "exception": false,
     "start_time": "2025-04-01T18:58:15.102932",
     "status": "completed"
    },
    "tags": []
   },
   "source": [
    "## Recap\n",
    "You've built your first model, and now it's time to optimize the size of the tree to make better predictions. Run this cell to set up your coding environment where the previous step left off."
   ]
  },
  {
   "cell_type": "code",
   "execution_count": 1,
   "id": "40e609a1",
   "metadata": {
    "execution": {
     "iopub.execute_input": "2025-04-01T18:58:15.112865Z",
     "iopub.status.busy": "2025-04-01T18:58:15.112533Z",
     "iopub.status.idle": "2025-04-01T18:58:18.752668Z",
     "shell.execute_reply": "2025-04-01T18:58:18.751201Z"
    },
    "papermill": {
     "duration": 3.645839,
     "end_time": "2025-04-01T18:58:18.754486",
     "exception": false,
     "start_time": "2025-04-01T18:58:15.108647",
     "status": "completed"
    },
    "tags": []
   },
   "outputs": [
    {
     "name": "stdout",
     "output_type": "stream",
     "text": [
      "Validation MAE: 29,653\n",
      "\n",
      "Setup complete\n"
     ]
    }
   ],
   "source": [
    "# Code you have previously used to load data\n",
    "import pandas as pd\n",
    "from sklearn.metrics import mean_absolute_error\n",
    "from sklearn.model_selection import train_test_split\n",
    "from sklearn.tree import DecisionTreeRegressor\n",
    "\n",
    "\n",
    "# Path of the file to read\n",
    "iowa_file_path = '../input/home-data-for-ml-course/train.csv'\n",
    "\n",
    "home_data = pd.read_csv(iowa_file_path)\n",
    "# Create target object and call it y\n",
    "y = home_data.SalePrice\n",
    "# Create X\n",
    "features = ['LotArea', 'YearBuilt', '1stFlrSF', '2ndFlrSF', 'FullBath', 'BedroomAbvGr', 'TotRmsAbvGrd']\n",
    "X = home_data[features]\n",
    "\n",
    "# Split into validation and training data\n",
    "train_X, val_X, train_y, val_y = train_test_split(X, y, random_state=1)\n",
    "\n",
    "# Specify Model\n",
    "iowa_model = DecisionTreeRegressor(random_state=1)\n",
    "# Fit Model\n",
    "iowa_model.fit(train_X, train_y)\n",
    "\n",
    "# Make validation predictions and calculate mean absolute error\n",
    "val_predictions = iowa_model.predict(val_X)\n",
    "val_mae = mean_absolute_error(val_predictions, val_y)\n",
    "print(\"Validation MAE: {:,.0f}\".format(val_mae))\n",
    "\n",
    "# Set up code checking\n",
    "from learntools.core import binder\n",
    "binder.bind(globals())\n",
    "from learntools.machine_learning.ex5 import *\n",
    "print(\"\\nSetup complete\")"
   ]
  },
  {
   "cell_type": "markdown",
   "id": "26388163",
   "metadata": {
    "papermill": {
     "duration": 0.003001,
     "end_time": "2025-04-01T18:58:18.761240",
     "exception": false,
     "start_time": "2025-04-01T18:58:18.758239",
     "status": "completed"
    },
    "tags": []
   },
   "source": [
    "# Exercises\n",
    "You could write the function `get_mae` yourself. For now, we'll supply it. This is the same function you read about in the previous lesson. Just run the cell below."
   ]
  },
  {
   "cell_type": "code",
   "execution_count": 2,
   "id": "8962a3cb",
   "metadata": {
    "execution": {
     "iopub.execute_input": "2025-04-01T18:58:18.772219Z",
     "iopub.status.busy": "2025-04-01T18:58:18.771743Z",
     "iopub.status.idle": "2025-04-01T18:58:18.777392Z",
     "shell.execute_reply": "2025-04-01T18:58:18.776249Z"
    },
    "papermill": {
     "duration": 0.013366,
     "end_time": "2025-04-01T18:58:18.779071",
     "exception": false,
     "start_time": "2025-04-01T18:58:18.765705",
     "status": "completed"
    },
    "tags": []
   },
   "outputs": [],
   "source": [
    "def get_mae(max_leaf_nodes, train_X, val_X, train_y, val_y):\n",
    "    model = DecisionTreeRegressor(max_leaf_nodes=max_leaf_nodes, random_state=0)\n",
    "    model.fit(train_X, train_y)\n",
    "    preds_val = model.predict(val_X)\n",
    "    mae = mean_absolute_error(val_y, preds_val)\n",
    "    return(mae)"
   ]
  },
  {
   "cell_type": "markdown",
   "id": "aecd31ad",
   "metadata": {
    "papermill": {
     "duration": 0.004538,
     "end_time": "2025-04-01T18:58:18.787997",
     "exception": false,
     "start_time": "2025-04-01T18:58:18.783459",
     "status": "completed"
    },
    "tags": []
   },
   "source": [
    "## Step 1: Compare Different Tree Sizes\n",
    "Write a loop that tries the following values for *max_leaf_nodes* from a set of possible values.\n",
    "\n",
    "Call the *get_mae* function on each value of max_leaf_nodes. Store the output in some way that allows you to select the value of `max_leaf_nodes` that gives the most accurate model on your data."
   ]
  },
  {
   "cell_type": "code",
   "execution_count": 3,
   "id": "04a920df",
   "metadata": {
    "execution": {
     "iopub.execute_input": "2025-04-01T18:58:18.798271Z",
     "iopub.status.busy": "2025-04-01T18:58:18.797755Z",
     "iopub.status.idle": "2025-04-01T18:58:18.852170Z",
     "shell.execute_reply": "2025-04-01T18:58:18.851109Z"
    },
    "papermill": {
     "duration": 0.062418,
     "end_time": "2025-04-01T18:58:18.853944",
     "exception": false,
     "start_time": "2025-04-01T18:58:18.791526",
     "status": "completed"
    },
    "tags": []
   },
   "outputs": [
    {
     "data": {
      "application/javascript": [
       "parent.postMessage({\"jupyterEvent\": \"custom.exercise_interaction\", \"data\": {\"outcomeType\": 1, \"valueTowardsCompletion\": 0.5, \"interactionType\": 1, \"questionType\": 1, \"questionId\": \"1_BestTreeSize\", \"learnToolsVersion\": \"0.3.4\", \"failureMessage\": \"\", \"exceptionClass\": \"\", \"trace\": \"\"}}, \"*\")"
      ],
      "text/plain": [
       "<IPython.core.display.Javascript object>"
      ]
     },
     "metadata": {},
     "output_type": "display_data"
    },
    {
     "data": {
      "text/markdown": [
       "<span style=\"color:#33cc33\">Correct</span>"
      ],
      "text/plain": [
       "Correct"
      ]
     },
     "metadata": {},
     "output_type": "display_data"
    }
   ],
   "source": [
    "candidate_max_leaf_nodes = [5, 25, 50, 100, 250, 500]\n",
    "# Write loop to find the ideal tree size from candidate_max_leaf_nodes\n",
    "mae_vals=[get_mae(candidate_max_leaf_nodes[i], train_X, val_X, train_y, val_y) for i in range(0,6)]\n",
    "min_mae_vals=min(mae_vals)\n",
    "index=mae_vals.index(min_mae_vals)\n",
    "\n",
    "# Store the best value of max_leaf_nodes (it will be either 5, 25, 50, 100, 250 or 500)\n",
    "best_tree_size = candidate_max_leaf_nodes[index]\n",
    "\n",
    "# Check your answer\n",
    "step_1.check()"
   ]
  },
  {
   "cell_type": "code",
   "execution_count": 4,
   "id": "31d55f34",
   "metadata": {
    "execution": {
     "iopub.execute_input": "2025-04-01T18:58:18.862361Z",
     "iopub.status.busy": "2025-04-01T18:58:18.862019Z",
     "iopub.status.idle": "2025-04-01T18:58:18.865973Z",
     "shell.execute_reply": "2025-04-01T18:58:18.864854Z"
    },
    "papermill": {
     "duration": 0.009949,
     "end_time": "2025-04-01T18:58:18.867652",
     "exception": false,
     "start_time": "2025-04-01T18:58:18.857703",
     "status": "completed"
    },
    "tags": []
   },
   "outputs": [],
   "source": [
    "# The lines below will show you a hint or the solution.\n",
    "# step_1.hint() \n",
    "# step_1.solution()"
   ]
  },
  {
   "cell_type": "markdown",
   "id": "bbdc32b6",
   "metadata": {
    "papermill": {
     "duration": 0.003408,
     "end_time": "2025-04-01T18:58:18.874867",
     "exception": false,
     "start_time": "2025-04-01T18:58:18.871459",
     "status": "completed"
    },
    "tags": []
   },
   "source": [
    "## Step 2: Fit Model Using All Data\n",
    "You know the best tree size. If you were going to deploy this model in practice, you would make it even more accurate by using all of the data and keeping that tree size.  That is, you don't need to hold out the validation data now that you've made all your modeling decisions."
   ]
  },
  {
   "cell_type": "code",
   "execution_count": 5,
   "id": "8350f876",
   "metadata": {
    "execution": {
     "iopub.execute_input": "2025-04-01T18:58:18.883059Z",
     "iopub.status.busy": "2025-04-01T18:58:18.882677Z",
     "iopub.status.idle": "2025-04-01T18:58:18.898145Z",
     "shell.execute_reply": "2025-04-01T18:58:18.897163Z"
    },
    "papermill": {
     "duration": 0.021347,
     "end_time": "2025-04-01T18:58:18.899715",
     "exception": false,
     "start_time": "2025-04-01T18:58:18.878368",
     "status": "completed"
    },
    "tags": []
   },
   "outputs": [
    {
     "data": {
      "application/javascript": [
       "parent.postMessage({\"jupyterEvent\": \"custom.exercise_interaction\", \"data\": {\"outcomeType\": 1, \"valueTowardsCompletion\": 0.5, \"interactionType\": 1, \"questionType\": 2, \"questionId\": \"2_FitModelWithAllData\", \"learnToolsVersion\": \"0.3.4\", \"failureMessage\": \"\", \"exceptionClass\": \"\", \"trace\": \"\"}}, \"*\")"
      ],
      "text/plain": [
       "<IPython.core.display.Javascript object>"
      ]
     },
     "metadata": {},
     "output_type": "display_data"
    },
    {
     "data": {
      "text/markdown": [
       "<span style=\"color:#33cc33\">Correct</span>"
      ],
      "text/plain": [
       "Correct"
      ]
     },
     "metadata": {},
     "output_type": "display_data"
    }
   ],
   "source": [
    "# Fill in argument to make optimal size and uncomment\n",
    "final_model = DecisionTreeRegressor(max_leaf_nodes=best_tree_size, random_state=0)\n",
    "\n",
    "# fit the final model and uncomment the next two lines\n",
    "final_model.fit(X, y)\n",
    "\n",
    "# Check your answer\n",
    "step_2.check()"
   ]
  },
  {
   "cell_type": "code",
   "execution_count": 6,
   "id": "76033160",
   "metadata": {
    "execution": {
     "iopub.execute_input": "2025-04-01T18:58:18.910839Z",
     "iopub.status.busy": "2025-04-01T18:58:18.910356Z",
     "iopub.status.idle": "2025-04-01T18:58:18.915058Z",
     "shell.execute_reply": "2025-04-01T18:58:18.913634Z"
    },
    "papermill": {
     "duration": 0.013304,
     "end_time": "2025-04-01T18:58:18.917372",
     "exception": false,
     "start_time": "2025-04-01T18:58:18.904068",
     "status": "completed"
    },
    "tags": []
   },
   "outputs": [],
   "source": [
    "# step_2.hint()\n",
    "# step_2.solution()"
   ]
  },
  {
   "cell_type": "markdown",
   "id": "e480ca7c",
   "metadata": {
    "papermill": {
     "duration": 0.006064,
     "end_time": "2025-04-01T18:58:18.928145",
     "exception": false,
     "start_time": "2025-04-01T18:58:18.922081",
     "status": "completed"
    },
    "tags": []
   },
   "source": [
    "You've tuned this model and improved your results. But we are still using Decision Tree models, which are not very sophisticated by modern machine learning standards. In the next step you will learn to use Random Forests to improve your models even more.\n",
    "\n",
    "# Keep Going\n",
    "\n",
    "You are ready for **[Random Forests](https://www.kaggle.com/dansbecker/random-forests).**\n"
   ]
  },
  {
   "cell_type": "markdown",
   "id": "1e971ae2",
   "metadata": {
    "papermill": {
     "duration": 0.005896,
     "end_time": "2025-04-01T18:58:18.939873",
     "exception": false,
     "start_time": "2025-04-01T18:58:18.933977",
     "status": "completed"
    },
    "tags": []
   },
   "source": [
    "---\n",
    "\n",
    "\n",
    "\n",
    "\n",
    "*Have questions or comments? Visit the [course discussion forum](https://www.kaggle.com/learn/intro-to-machine-learning/discussion) to chat with other learners.*"
   ]
  }
 ],
 "metadata": {
  "kaggle": {
   "accelerator": "none",
   "dataSources": [
    {
     "databundleVersionId": 111096,
     "sourceId": 10211,
     "sourceType": "competition"
    },
    {
     "datasetId": 11167,
     "sourceId": 15520,
     "sourceType": "datasetVersion"
    },
    {
     "datasetId": 2709,
     "sourceId": 38454,
     "sourceType": "datasetVersion"
    }
   ],
   "isGpuEnabled": false,
   "isInternetEnabled": false,
   "language": "python",
   "sourceType": "notebook"
  },
  "kernelspec": {
   "display_name": "Python 3",
   "language": "python",
   "name": "python3"
  },
  "language_info": {
   "codemirror_mode": {
    "name": "ipython",
    "version": 3
   },
   "file_extension": ".py",
   "mimetype": "text/x-python",
   "name": "python",
   "nbconvert_exporter": "python",
   "pygments_lexer": "ipython3",
   "version": "3.10.12"
  },
  "papermill": {
   "default_parameters": {},
   "duration": 7.592527,
   "end_time": "2025-04-01T18:58:19.671187",
   "environment_variables": {},
   "exception": null,
   "input_path": "__notebook__.ipynb",
   "output_path": "__notebook__.ipynb",
   "parameters": {},
   "start_time": "2025-04-01T18:58:12.078660",
   "version": "2.6.0"
  }
 },
 "nbformat": 4,
 "nbformat_minor": 5
}
